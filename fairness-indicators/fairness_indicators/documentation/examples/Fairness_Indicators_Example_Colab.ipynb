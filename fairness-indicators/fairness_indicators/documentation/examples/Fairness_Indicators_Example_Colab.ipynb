{
  "cells": [
    {
      "cell_type": "markdown",
      "metadata": {
        "id": "aalPefrUUplk"
      },
      "source": [
        "# Fairness Indicators Example Colab"
      ]
    },
    {
      "cell_type": "markdown",
      "metadata": {
        "id": "UZ48WFLwbCL6"
      },
      "source": [
        "##Overview\n",
        "\n",
        "In this activity, you'll use Fairness Indicators to explore the Civil Comments dataset. Fairness Indicators is a suite of tools built on top of [TensorFlow Model Analysis](https://www.tensorflow.org/tfx/model_analysis/get_started) that enable regular evaluation of fairness metrics in product pipelines. This [Introductory Video](https://www.youtube.com/watch?v=pHT-ImFXPQo) provides more details and context on the real-world scenario we are presenting here, one of primary motivations for creating Fairness Indicators.\n",
        "\n",
        "##About the Dataset\n",
        "\n",
        "In this exercise, you'll work with the [Civil Comments dataset](https://www.kaggle.com/c/jigsaw-unintended-bias-in-toxicity-classification), approximately 2 million public comments made public by the [Civil Comments platform](https://medium.com/@aja_15265/saying-goodbye-to-civil-comments-41859d3a2b1d) in 2017 for ongoing research. This effort was sponsored by Jigsaw, who have hosted competitions on Kaggle to help classify toxic comments as well as minimize unintended model bias. \n",
        "\n",
        "Each individual text comment in the dataset has a toxicity label. Within the data, a subset of comments are labeled with a variety of identity attributes, including categories for gender, sexual orientation, religion, and race or ethnicity.\n",
        "\n",
        "##About the Tools\n",
        "\n",
        "[TensorFlow Model Analysis](https://www.tensorflow.org/tfx/model_analysis/get_started) is a library for evaluating both TensorFlow and non-TensorFlow machine learning models. It allows users to evaluate their models on large amounts of data in a distributed manner, computing in-graph and other metrics over different slices of data and visualized in notebooks. \n",
        "\n",
        "Fairness Indicators is built on top of TFMA. With Fairness Indicators, users will be able to: \n",
        "\n",
        "* Evaluate model performance, sliced across defined groups of users\n",
        "* Feel confident about results with confidence intervals and evaluations at multiple thresholds\n",
        "\n",
        "Fairness Indicators is packaged with [TensorFlow Data Validation](https://www.tensorflow.org/tfx/data_validation/get_started) and [What-If Tool](https://pair-code.github.io/what-if-tool/) to allow users to:\n",
        "\n",
        "* Evaluate the distribution of datasets\n",
        "* Dive deep into individual slices to explore root causes and opportunities for improvement with the What-If Tool"
      ]
    },
    {
      "cell_type": "markdown",
      "metadata": {
        "id": "u33JXdluZ2lG"
      },
      "source": [
        "# Importing\n",
        "\n",
        "Run the following code to install the fairness_indicators library. This package contains the tools we'll be using in this exercise. Restart Runtime may be requested but is not necessary."
      ]
    },
    {
      "cell_type": "code",
      "execution_count": null,
      "metadata": {
        "id": "EoRNffG599XP"
      },
      "outputs": [],
      "source": [
        "!pip install --upgrade fairness-indicators"
      ]
    },
    {
      "cell_type": "code",
      "execution_count": null,
      "metadata": {
        "id": "B8dlyTyiTe-9"
      },
      "outputs": [],
      "source": [
        "import os\n",
        "import tempfile\n",
        "import apache_beam as beam\n",
        "import numpy as np\n",
        "import pandas as pd\n",
        "from datetime import datetime\n",
        "import pprint\n",
        "\n",
        "import tensorflow_hub as hub\n",
        "import tensorflow as tf\n",
        
        "import tensorflow_model_analysis as tfma\n",
        "import tensorflow_data_validation as tfdv\n",
        "from tensorflow_model_analysis.addons.fairness.post_export_metrics import fairness_indicators\n",
        "from tensorflow_model_analysis.addons.fairness.view import widget_view\n",
        "from fairness_indicators.documentation.examples import util\n",
        "\n",
        "from witwidget.notebook.visualization import WitConfigBuilder\n",
        "from witwidget.notebook.visualization import WitWidget\n"
      ]
    },
    {
      "cell_type": "markdown",
      "metadata": {
        "id": "TsplOJGqWCf5"
      },
      "source": [
        "# Download and Understand the Data"
      ]
    },
    {
      "cell_type": "markdown",
      "metadata": {
        "id": "vFOQ4AaIcAn2"
      },
      "source": [
        "In this exercise, you'll work with the Civil Comments dataset, approximately 2 million public comments made public by the Civil Comments platform in 2017. Additionally, a subset of comments have been labelled with a variety of identity attributes, representing the identities that are mentioned in the comment.\n",
        "\n",
        "We've hosted the dataset on Google Cloud Platform for convenience. Run the following code to download the data from GCP, the data will take about a minute to download and analyze.\n",
        "\n",
        "TensorFlow Data Validation is one tool you can use to analyze your data. You can use it to find potential problems in your data, such as missing values and data imbalances, that can lead to Fairness disparities."
      ]
    },
    {
      "cell_type": "code",
      "execution_count": null,
      "metadata": {
        "cellView": "both",
        "id": "qmt4gkBFRBD2"
      },
      "outputs": [],
      "source": [
        "#@markdown By default, we download a preprocessed version of this dataset, but\n",
        "#@markdown you may use the original dataset and re-run the processing steps if\n",
        "#@markdown desired.\n",
        "\n",
        "#@markdown In the original dataset, each comment is labeled with the percentage\n",
        "#@markdown of raters who believed that a comment corresponds to a particular\n",
        "#@markdown identity. For example, a comment might be labeled with the following:\n",
        "\n",
        "#@markdown `{ male: 0.3, female: 1.0, transgender: 0.0, heterosexual: 0.8,\n",
        "#@markdown homosexual_gay_or_lesbian: 1.0 }`\n",
        "\n",
        "#@markdown The processing step groups identity by category (gender,\n",
        "#@markdown sexual_orientation, etc.) and removes identities with a score less\n",
        "#@markdown than 0.5. So the example above would be converted to the following:\n",
        "#@markdown of raters who believed that a comment corresponds to a particular\n",
        "#@markdown identity. For example, the comment would be labeled with the\n",
        "#@markdown following:\n",
        "\n",
        "#@markdown `{ gender: [female], sexual_orientation: [heterosexual,\n",
        "#@markdown homosexual_gay_or_lesbian] }`\n",
        "\n",
        "download_original_data = False #@param {type:\"boolean\"}\n",
        "\n",
        "if download_original_data:\n",
        "  train_tf_file = tf.keras.utils.get_file('train_tf.tfrecord',\n",
        "                                          'https://storage.googleapis.com/civil_comments_dataset/train_tf.tfrecord')\n",
        "  validate_tf_file = tf.keras.utils.get_file('validate_tf.tfrecord',\n",
        "                                             'https://storage.googleapis.com/civil_comments_dataset/validate_tf.tfrecord')\n",
        "\n",
        "  # The identity terms list will be grouped together by their categories\n",
        "  # (see 'IDENTITY_COLUMNS') on threshould 0.5. Only the identity term column,\n",
        "  # text column and label column will be kept after processing.\n",
        "  train_tf_file = util.convert_comments_data(train_tf_file)\n",
        "  validate_tf_file = util.convert_comments_data(validate_tf_file)\n",
        "\n",
        "else:\n",
        "  train_tf_file = tf.keras.utils.get_file('train_tf_processed.tfrecord',\n",
        "                                          'https://storage.googleapis.com/civil_comments_dataset/train_tf_processed.tfrecord')\n",
        "  validate_tf_file = tf.keras.utils.get_file('validate_tf_processed.tfrecord',\n",
        "                                             'https://storage.googleapis.com/civil_comments_dataset/validate_tf_processed.tfrecord')"
      ]
    },
    {
      "cell_type": "code",
      "execution_count": null,
      "metadata": {
        "id": "NdLBi6tN5i7I"
      },
      "outputs": [],
      "source": [
        "stats = tfdv.generate_statistics_from_tfrecord(data_location=train_tf_file)\n",
        "tfdv.visualize_statistics(stats)"
      ]
    },
    {
      "cell_type": "markdown",
      "metadata": {
        "id": "AS9QiA96GXDE"
      },
      "source": [
        "There are several interesting things that we may want to note in this data. The first is that the toxicity label, which is what we are predicting, is unbalanced. Only 8% of examples in the training set are toxic, which means that a classifier could get 92% accuracy by predicting that all comments are non-toxic.\n",
        "\n",
        "For the fields relating to identity terms note that out of 1.08 million training examples, only around 6.6k examples deal with homosexuality, and those related to bisexuality are even more rare. This might indicate that performance on these slices may suffer due to lack of training data."
      ]
    },
    {
      "cell_type": "markdown",
      "metadata": {
        "id": "9ekzb7vVnPCc"
      },
      "source": [
        "# Defining Constants"
      ]
    },
    {
      "cell_type": "markdown",
      "metadata": {
        "id": "aioGdTyMdC9W"
      },
      "source": [
        "Here, we define the feature map that will be used to parse the data. Each example will have a label, comment text, and identity features `sexual orientation`, `gender`, `religion`, `race`, and `disability` that are associated with the text."
      ]
    },
    {
      "cell_type": "code",
      "execution_count": null,
      "metadata": {
        "id": "n4_nXQDykX6W"
      },
      "outputs": [],
      "source": [
        "BASE_DIR = tempfile.gettempdir()\n",
        "\n",
        "TEXT_FEATURE = 'comment_text'\n",
        "LABEL = 'toxicity'\n",
        "FEATURE_MAP = {\n",
        "    # Label:\n",
        "    LABEL: tf.io.FixedLenFeature([], tf.float32),\n",
        "    # Text:\n",
        "    TEXT_FEATURE:  tf.io.FixedLenFeature([], tf.string),\n",
        "\n",
        "    # Identities:\n",
        "    'sexual_orientation':tf.io.VarLenFeature(tf.string),\n",
        "    'gender':tf.io.VarLenFeature(tf.string),\n",
        "    'religion':tf.io.VarLenFeature(tf.string),\n",
        "    'race':tf.io.VarLenFeature(tf.string),\n",
        "    'disability':tf.io.VarLenFeature(tf.string),\n",
        "}"
      ]
    },
    {
      "cell_type": "markdown",
      "metadata": {
        "id": "mfbgerCsEOmN"
      },
      "source": [
        "# Train the Model"
      ]
    },
    {
      "cell_type": "markdown",
      "metadata": {
        "id": "-naXyPdpdDmv"
      },
      "source": [
        "First, set up the input function to feed data into the model. Note that since we identified a class imbalance by our earlier TensorFlow Data Validation run, we will add a weight column to each example and upweight the toxic examples to account for this. We only use identity features during the evaluation phase, as only the comments are fed into the model at training time."
      ]
    },
    {
      "cell_type": "code",
      "execution_count": null,
      "metadata": {
        "id": "YwoC-dzEDid3"
      },
      "outputs": [],
      "source": [
        "def train_input_fn():\n",
        "  def parse_function(serialized):\n",
        "    parsed_example = tf.io.parse_single_example(\n",
        "        serialized=serialized, features=FEATURE_MAP)\n",
        "    # Adds a weight column to deal with unbalanced classes.\n",
        "    parsed_example['weight'] = tf.add(parsed_example[LABEL], 0.1)\n",
        "    return (parsed_example,\n",
        "            parsed_example[LABEL])\n",
        "  train_dataset = tf.data.TFRecordDataset(\n",
        "      filenames=[train_tf_file]).map(parse_function).batch(512)\n",
        "  return train_dataset"
      ]
    },
    {
      "cell_type": "markdown",
      "metadata": {
        "id": "nsJgv8zSdXhv"
      },
      "source": [
        "Next, create a deep neural network model, and train it on the data:"
      ]
    },
    {
      "cell_type": "code",
      "execution_count": null,
      "metadata": {
        "id": "JaGvNrVijfws"
      },
      "outputs": [],
      "source": [
        "model_dir = os.path.join(BASE_DIR, 'train', datetime.now().strftime(\n",
        "    \"%Y%m%d-%H%M%S\"))\n",
        "\n",
        "embedded_text_feature_column = hub.text_embedding_column(\n",
        "    key=TEXT_FEATURE,\n",
        "    module_spec='https://tfhub.dev/google/nnlm-en-dim128/1')\n",
        "\n",
        "classifier = tf.estimator.DNNClassifier(\n",
        "    hidden_units=[500, 100],\n",
        "    weight_column='weight',\n",
        "    feature_columns=[embedded_text_feature_column],\n",
        "    optimizer=tf.keras.optimizers.Adagrad(learning_rate=0.003),\n",
        "    loss_reduction=tf.losses.Reduction.SUM,\n",
        "    n_classes=2,\n",
        "    model_dir=model_dir)\n",
        "\n",
        "classifier.train(input_fn=train_input_fn, steps=1000)"
      ]
    },
    {
      "cell_type": "markdown",
      "metadata": {
        "id": "jTPqije9Eg5b"
      },
      "source": [
        "# Run TensorFlow Model Analysis with Fairness Indicators"
      ]
    },
    {
      "cell_type": "markdown",
      "metadata": {
        "id": "-vRc-Jyp8dRm"
      },
      "source": [
        "## Export Saved Model"
      ]
    },
    {
      "cell_type": "code",
      "execution_count": null,
      "metadata": {
        "id": "QLjiy5VCzlRw"
      },
      "outputs": [],
      "source": [
        "def eval_input_receiver_fn():\n",
        "  serialized_tf_example = tf.compat.v1.placeholder(\n",
        "      dtype=tf.string, shape=[None], name='input_example_placeholder')\n",
        "\n",
        "  # This *must* be a dictionary containing a single key 'examples', which\n",
        "  # points to the input placeholder.\n",
        "  receiver_tensors = {'examples': serialized_tf_example}\n",
        "\n",
        "  features = tf.io.parse_example(serialized_tf_example, FEATURE_MAP)\n",
        "  features['weight'] = tf.ones_like(features[LABEL])\n",
        "\n",
        "  return tfma.export.EvalInputReceiver(\n",
        "    features=features,\n",
        "    receiver_tensors=receiver_tensors,\n",
        "    labels=features[LABEL])\n",
        "\n",
        "tfma_export_dir = tfma.export.export_eval_savedmodel(\n",
        "  estimator=classifier,\n",
        "  export_dir_base=os.path.join(BASE_DIR, 'tfma_eval_model'),\n",
        "  eval_input_receiver_fn=eval_input_receiver_fn)"
      ]
    },
    {
      "cell_type": "markdown",
      "metadata": {
        "id": "3j8ODcee8rQ8"
      },
      "source": [
        "## Compute Fairness Metrics"
      ]
    },
    {
      "cell_type": "markdown",
      "metadata": {
        "id": "2ZwmRViBTez7"
      },
      "source": [
        "Select the identity to compute metrics for and whether to run with confidence intervals in the panel on the right-hand side. Depending on your configurations, this step will take 2-10 minutes to run. "
      ]
    },
    {
      "cell_type": "code",
      "execution_count": null,
      "metadata": {
        "cellView": "both",
        "id": "7shDmJbx9mqa"
      },
      "outputs": [],
      "source": [
        "#@title Fairness Indicators Computation Options\n",
        "tfma_eval_result_path = os.path.join(BASE_DIR, 'tfma_eval_result')\n",
        "\n",
        "#@markdown Modify the slice_selection for experiments on other identities.\n",
        "slice_selection = 'sexual_orientation' #@param [\"sexual_orientation\", \"gender\", \"religion\", \"race\", \"disability\"]\n",
        "#@markdown Confidence Intervals can help you make better decisions regarding your data, but as it requires computing multiple resamples, is slower particularly in the colab environment that cannot take advantage of parallelization.\n",
        "compute_confidence_intervals = False #@param {type:\"boolean\"}\n",
        "\n",
        "# Define slices that you want the evaluation to run on.\n",
        "slice_spec = [\n",
        "    tfma.slicer.SingleSliceSpec(), # Overall slice\n",
        "    tfma.slicer.SingleSliceSpec(columns=[slice_selection]),\n",
        "]\n",
        "\n",
        "# Add the fairness metrics.\n",
        "add_metrics_callbacks = [\n",
        "  tfma.post_export_metrics.fairness_indicators(\n",
        "      thresholds=[0.1, 0.3, 0.5, 0.7, 0.9],\n",
        "      labels_key=LABEL\n",
        "      )\n",
        "]\n",
        "\n",
        "eval_shared_model = tfma.default_eval_shared_model(\n",
        "    eval_saved_model_path=tfma_export_dir,\n",
        "    add_metrics_callbacks=add_metrics_callbacks)\n",
        "\n",
        "# Run the fairness evaluation.\n",
        "with beam.Pipeline() as pipeline:\n",
        "  _ = (\n",
        "      pipeline\n",
        "      | 'ReadData' \u003e\u003e beam.io.ReadFromTFRecord(validate_tf_file)\n",
        "      | 'ExtractEvaluateAndWriteResults' \u003e\u003e\n",
        "       tfma.ExtractEvaluateAndWriteResults(\n",
        "                 eval_shared_model=eval_shared_model,\n",
        "                 slice_spec=slice_spec,\n",
        "                 compute_confidence_intervals=compute_confidence_intervals,\n",
        "                 output_path=tfma_eval_result_path)\n",
        "  )\n",
        "\n",
        "eval_result = tfma.load_eval_result(output_path=tfma_eval_result_path)"
      ]
    },
    {
      "cell_type": "markdown",
      "metadata": {
        "id": "jtDpTBPeRw2d"
      },
      "source": [
        "# Render What-if Tool"
      ]
    },
    {
      "cell_type": "markdown",
      "metadata": {
        "id": "wKgyEd8nfR2b"
      },
      "source": [
        "In this section, you'll use the [What-If Tool's ](https://pair-code.github.io/what-if-tool/)interactive visual interface to explore and manipulate data at a micro-level.\n",
        "\n",
        "On the right-hand panel in the visualization, you will see a scatter plot where each point represents one of the examples in the subset loaded into the tool. Click on one of the points. In the left-hand panel, you should now see details about this particular example. The comment text, ground truth toxicity, and applicable identities are shown. At the bottom of this left-hand panel, you see the inference results from the model you just trained.\n",
        "\n",
        "Modify the text of the example. You can then click the \"Run inference\" button to view how your changes caused the perceived toxicity prediction to change.\n"
      ]
    },
    {
      "cell_type": "code",
      "execution_count": null,
      "metadata": {
        "id": "wtjZo4BDlV1m"
      },
      "outputs": [],
      "source": [
        "DEFAULT_MAX_EXAMPLES = 1000\n",
        "\n",
        "# Load 100000 examples in memory. When first rendered, \n",
        "# What-If Tool should only display 1000 of these due to browser constraints.\n",
        "def wit_dataset(file, num_examples=100000):\n",
        "  dataset = tf.data.TFRecordDataset(\n",
        "      filenames=[file]).take(num_examples)\n",
        "  return [tf.train.Example.FromString(d.numpy()) for d in dataset]\n",
        "\n",
        "wit_data = wit_dataset(train_tf_file)\n",
        "config_builder = WitConfigBuilder(wit_data[:DEFAULT_MAX_EXAMPLES]).set_estimator_and_feature_spec(\n",
        "    classifier, FEATURE_MAP).set_label_vocab(['non-toxicity', LABEL]).set_target_feature(LABEL)\n",
        "wit = WitWidget(config_builder)"
      ]
    },
    {
      "cell_type": "markdown",
      "metadata": {
        "id": "ktlASJQIzE3l"
      },
      "source": [
        "# Render Fairness Indicators\n",
        "\n",
        "Render the Fairness Indicators widget with the exported evaluation results.\n",
        "\n",
        "Below you will see bar charts displaying performance of each slice of the data on selected metrics. You can adjust the baseline comparison slice as well as the displayed threshold(s) using the drop down menus at the top of the visualization. \n",
        "\n",
        "The Fairness Indicator widget is integrated with the What-If Tool rendered above. If you select one slice of the data in the bar chart, the What-If Tool will update to show you examples from the selected slice. When the data reloads in the What-If Tool above, try modifying **Color By** to **toxicity**. This can give you a visual understanding of the toxicity balance of examples by slice."
      ]
    },
    {
      "cell_type": "code",
      "execution_count": null,
      "metadata": {
        "id": "JNaNhTCTAMHm"
      },
      "outputs": [],
      "source": [
        "event_handlers={'slice-selected':\n",
        "                wit.create_selection_callback(wit_data, DEFAULT_MAX_EXAMPLES)}\n",
        "widget_view.render_fairness_indicator(eval_result=eval_result,\n",
        "                                      slicing_column=slice_selection,\n",
        "                                      event_handlers=event_handlers\n",
        "                                      )"
      ]
    },
    {
      "cell_type": "markdown",
      "metadata": {
        "id": "nRuZsLr6V_fY"
      },
      "source": [
        "With this particular dataset and task, systematically higher false positive and false negative rates for certain identities can lead to negative consequences. For example, in a content moderation system, a higher-than-overall false positive rate for a certain group can lead to those voices being silenced. Thus, it is important to regularly evaluate these types of criteria as you develop and improve models, and utilize tools such as Fairness Indicators, TFDV, and WIT to help illuminate potential problems. Once you've identified fairness issues, you can experiment with new data sources, data balancing, or other techniques to improve performance on underperforming groups.\n",
        "\n",
        "For more information and guidance on how Fairness Indicators can be used, see [this link](https://bit.ly/fairness-indicators-guidance).\n"
      ]
    },
    {
      "cell_type": "markdown",
      "metadata": {
        "id": "wCMEMtGfx0Ti"
      },
      "source": [
        "# tfma.EvalResult"
      ]
    },
    {
      "cell_type": "markdown",
      "metadata": {
        "id": "iXGOBJf8x2QI"
      },
      "source": [
        "The [`eval_result`](https://www.tensorflow.org/tfx/model_analysis/api_docs/python/tfma/EvalResult) object, rendered above in `render_fairness_indicator()`, has its own API that can be used to read TFMA results into your programs."
      ]
    },
    {
      "cell_type": "markdown",
      "metadata": {
        "id": "z6stkMLwyfza"
      },
      "source": [
        "## [`get_slice_names()`](https://www.tensorflow.org/tfx/model_analysis/api_docs/python/tfma/EvalResult#get_slice_names) and [`get_metric_names()`](https://www.tensorflow.org/tfx/model_analysis/api_docs/python/tfma/EvalResult#get_metric_names)"
      ]
    },
    {
      "cell_type": "markdown",
      "metadata": {
        "id": "te7c7HWpyoCq"
      },
      "source": [
        "To get the evaluated slices and metrics, you can use the respective functions."
      ]
    },
    {
      "cell_type": "code",
      "execution_count": null,
      "metadata": {
        "id": "eXrt7SdZyzWD"
      },
      "outputs": [],
      "source": [
        "pp = pprint.PrettyPrinter()\n",
        "\n",
        "print(\"Slices:\")\n",
        "pp.pprint(eval_result.get_slice_names())\n",
        "print(\"\\nMetrics:\")\n",
        "pp.pprint(eval_result.get_metric_names())"
      ]
    },
    {
      "cell_type": "markdown",
      "metadata": {
        "id": "pqErNxCDy8Es"
      },
      "source": [
        "## [`get_metrics_for_slice()`](https://www.tensorflow.org/tfx/model_analysis/api_docs/python/tfma/EvalResult#get_metrics_for_slice) and [`get_metrics_for_all_slices()`](https://www.tensorflow.org/tfx/model_analysis/api_docs/python/tfma/EvalResult#get_metrics_for_all_slices)"
      ]
    },
    {
      "cell_type": "markdown",
      "metadata": {
        "id": "ctAvudY2zUu4"
      },
      "source": [
        "If you want to get the metrics for a particular slice, you can use `get_metrics_for_slice()`. It returns a dictionary mapping metric names to [metric values](https://github.com/tensorflow/model-analysis/blob/cdb6790dcd7a37c82afb493859b3ef4898963fee/tensorflow_model_analysis/proto/metrics_for_slice.proto#L194)."
      ]
    },
    {
      "cell_type": "code",
      "execution_count": null,
      "metadata": {
        "id": "zjCxZGHmzF0R"
      },
      "outputs": [],
      "source": [
        "baseline_slice = ()\n",
        "heterosexual_slice = (('sexual_orientation', 'heterosexual'),)\n",
        "\n",
        "print(\"Baseline metric values:\")\n",
        "pp.pprint(eval_result.get_metrics_for_slice(baseline_slice))\n",
        "print(\"\\nHeterosexual metric values:\")\n",
        "pp.pprint(eval_result.get_metrics_for_slice(heterosexual_slice))"
      ]
    },
    {
      "cell_type": "markdown",
      "metadata": {
        "id": "UDo3LhoR0Rq1"
      },
      "source": [
        "If you want to get the metrics for all slices, `get_metrics_for_all_slices()` returns a dictionary mapping each slice to the corresponding `get_metrics_for_slices(slice)`."
      ]
    },
    {
      "cell_type": "code",
      "execution_count": null,
      "metadata": {
        "id": "96N2l2xI0fZd"
      },
      "outputs": [],
      "source": [
        "pp.pprint(eval_result.get_metrics_for_all_slices())"
      ]
    }
  ],
  "metadata": {
    "accelerator": "GPU",
    "colab": {
      "collapsed_sections": [],
      "last_runtime": {
        "build_target": "//learning/fairness/colabs:ml_fairness_notebook",
        "kind": "private"
      },
      "name": "Fairness Indicators Example Colab.ipynb",
      "private_outputs": true,
      "toc_visible": true
    },
    "kernelspec": {
      "display_name": "Python 3",
      "name": "python3"
    }
  },
  "nbformat": 4,
  "nbformat_minor": 0
}
